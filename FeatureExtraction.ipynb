{
  "nbformat": 4,
  "nbformat_minor": 0,
  "metadata": {
    "colab": {
      "name": "FeatureExtraction.ipynb",
      "provenance": [],
      "machine_shape": "hm"
    },
    "kernelspec": {
      "name": "python3",
      "display_name": "Python 3"
    },
    "language_info": {
      "name": "python"
    },
    "accelerator": "GPU"
  },
  "cells": [
    {
      "cell_type": "code",
      "metadata": {
        "id": "jBi4Zo1Y66Px",
        "colab": {
          "base_uri": "https://localhost:8080/",
          "height": 69
        },
        "outputId": "15badf1f-0265-4dad-9313-3eeb6e82eeb2"
      },
      "source": [
        "from google.colab import drive\n",
        "drive.mount('/content/drive')\n",
        "%cd /content/drive/MyDrive/Colab Notebooks/\n",
        "%pwd"
      ],
      "execution_count": 4,
      "outputs": [
        {
          "output_type": "stream",
          "text": [
            "Mounted at /content/drive\n",
            "/content/drive/MyDrive/Colab Notebooks\n"
          ],
          "name": "stdout"
        },
        {
          "output_type": "execute_result",
          "data": {
            "application/vnd.google.colaboratory.intrinsic+json": {
              "type": "string"
            },
            "text/plain": [
              "'/content/drive/MyDrive/Colab Notebooks'"
            ]
          },
          "metadata": {
            "tags": []
          },
          "execution_count": 4
        }
      ]
    },
    {
      "cell_type": "code",
      "metadata": {
        "colab": {
          "base_uri": "https://localhost:8080/"
        },
        "id": "1VOgGz5_ElQK",
        "outputId": "d5371186-3183-44e3-df99-978afd9790d0"
      },
      "source": [
        "!pip install colab-env -qU\n",
        "import json\n",
        "import os\n",
        "import math\n",
        "import librosa\n",
        "import numpy as np\n",
        "from sklearn.preprocessing import LabelEncoder\n",
        "import utils"
      ],
      "execution_count": 10,
      "outputs": [
        {
          "output_type": "stream",
          "text": [
            "  Building wheel for colab-env (setup.py) ... \u001b[?25l\u001b[?25hdone\n"
          ],
          "name": "stdout"
        }
      ]
    },
    {
      "cell_type": "markdown",
      "metadata": {
        "id": "tZaoXylRHS-M"
      },
      "source": [
        "Here we set the path for the audio files and designate a file name for the output. Then the code runs through all audio files, splits songs into segments and extracts Mfcc features for each segment. It's reccomended to do this in a few steps as Colab is prone to crash."
      ]
    },
    {
      "cell_type": "code",
      "metadata": {
        "id": "p_mGGtQ_FfkE"
      },
      "source": [
        "DATASET_PATH = \"gognin\"\n",
        "JSON_PATH = \"Moppur_031_060.json\"\n",
        "SAMPLE_RATE = 22050\n",
        "TRACK_DURATION = 30 # measured in seconds\n",
        "SAMPLES_PER_TRACK = SAMPLE_RATE * TRACK_DURATION\n",
        "\n",
        "\n",
        "def save_mfcc(dataset_path, json_path, num_mfcc=20, n_fft=2048, hop_length=512, num_segments=5):\n",
        "    # dictionary to store mapping, labels, and MFCCs\n",
        "    data = {\n",
        "        \"trackId\": [],\n",
        "        \"labels\": [],\n",
        "        \"segment\": [],\n",
        "        \"mfcc\": []\n",
        "    }\n",
        "    samples_per_segment = int(SAMPLES_PER_TRACK / num_segments)\n",
        "    num_mfcc_vectors_per_segment = math.ceil(samples_per_segment / hop_length)\n",
        "    # loop through all sub-folders\n",
        "    for i, (dirpath, dirnames, filenames) in enumerate(os.walk(dataset_path)):\n",
        "        filenames.sort()\n",
        "        #ensuring right level of folder\n",
        "        if dirpath is not dataset_path:\n",
        "            #all files in sub-folder\n",
        "            for f in filenames:\n",
        "                if f.endswith(('.wav', '.aif', 'aiff', '.flac', '.mp3', '.m4a')):\n",
        "\t\t                # load audio file\n",
        "                    file_path = os.path.join(dirpath, f)\n",
        "                    signal, sample_rate = librosa.load(file_path, sr=SAMPLE_RATE)\n",
        "                    if signal.shape[0]/650000 > 1: #ensuring right length\n",
        "                        trackId = f.lstrip('0').rsplit('.',1)[0]\n",
        "                        # process all segments of audio file\n",
        "                        for d in range(num_segments):\n",
        "                            # calculate start and finish sample for current segment\n",
        "                            start = samples_per_segment * d\n",
        "                            finish = start + samples_per_segment\n",
        "\n",
        "                            # extract mfcc\n",
        "                            mfcc = librosa.feature.mfcc(signal[start:finish], sample_rate, \n",
        "                                                        n_mfcc=num_mfcc, n_fft=n_fft, hop_length=hop_length)\n",
        "                            mfcc = mfcc.T\n",
        "\n",
        "                            # store only mfcc feature with expected number of vectors\n",
        "                            if len(mfcc) == num_mfcc_vectors_per_segment:\n",
        "                                data[\"mfcc\"].append(mfcc.tolist())\n",
        "                                data[\"labels\"].append(i-1)\n",
        "                                data[\"trackId\"].append(trackId)\n",
        "                                data[\"segment\"].append(d)\n",
        "                                print(\"{}, segment:{}\".format(file_path, d+1))\n",
        "\n",
        "    # save MFCCs to json file\n",
        "    with open(json_path, \"w\") as fp:\n",
        "        json.dump(data, fp, indent=4)\n",
        "         \n",
        "if __name__ == \"__main__\":\n",
        "    save_mfcc(DATASET_PATH, JSON_PATH, num_segments=10)"
      ],
      "execution_count": null,
      "outputs": []
    },
    {
      "cell_type": "markdown",
      "metadata": {
        "id": "VFT73B7vHvmI"
      },
      "source": [
        "Loading data from json file on to numpy arrays."
      ]
    },
    {
      "cell_type": "code",
      "metadata": {
        "id": "2hptUu5NGRse"
      },
      "source": [
        "def load_data(dataset_path):\n",
        "  with open(dataset_path,\"r\") as fp:\n",
        "    data = json.load(fp)\n",
        "  inputs = np.array(data['mfcc'])\n",
        "  targets = np.array(data['trackId']) #for matching up labels\n",
        "  return inputs, targets"
      ],
      "execution_count": 2,
      "outputs": []
    },
    {
      "cell_type": "code",
      "metadata": {
        "id": "GqQs-hgoGl1D"
      },
      "source": [
        "inputs1, targets1 = load_data(\"Moppur_000_030.json\") #folders 000-030"
      ],
      "execution_count": 6,
      "outputs": []
    },
    {
      "cell_type": "code",
      "metadata": {
        "id": "VBr3HYWHGl90"
      },
      "source": [
        "inputs2, targets2 = load_data(\"trjatiuogeinn.json\") #folders 031-090"
      ],
      "execution_count": 7,
      "outputs": []
    },
    {
      "cell_type": "code",
      "metadata": {
        "id": "0qzZx-8oGmE5"
      },
      "source": [
        "inputs3, targets3 = load_data(\"niutiuogeinn.json\") #folders 091-155"
      ],
      "execution_count": 8,
      "outputs": []
    },
    {
      "cell_type": "markdown",
      "metadata": {
        "id": "_gWg-KXzH4gI"
      },
      "source": [
        "Building training data from inputs and targets, making sure that segments from each song end up in the right place."
      ]
    },
    {
      "cell_type": "code",
      "metadata": {
        "colab": {
          "base_uri": "https://localhost:8080/"
        },
        "id": "6UX_O8HBK5r9",
        "outputId": "dea835c1-6cdd-4f4b-a27e-8c7511adc6a0"
      },
      "source": [
        "tracks = utils.load('Data/fma_metadata/tracks.csv')\n",
        "genres = utils.load('Data/fma_metadata/genres.csv')\n",
        "train = tracks[(tracks['set', 'split'] == 'training') & (tracks['set', 'subset'] == 'small')]['track','genre_top']\n",
        "val = tracks[(tracks['set', 'split'] == 'validation') & (tracks['set', 'subset'] == 'small')]['track','genre_top']\n",
        "test = tracks[(tracks['set', 'split'] == 'test') & (tracks['set', 'subset'] == 'small')]['track','genre_top']\n",
        "train.shape, val.shape, test.shape"
      ],
      "execution_count": 11,
      "outputs": [
        {
          "output_type": "execute_result",
          "data": {
            "text/plain": [
              "((6400,), (800,), (800,))"
            ]
          },
          "metadata": {
            "tags": []
          },
          "execution_count": 11
        }
      ]
    },
    {
      "cell_type": "code",
      "metadata": {
        "id": "rQ8uRq2_GgKx"
      },
      "source": [
        "y_train = []\n",
        "y_test = []\n",
        "y_val = []\n",
        "X_train_list = []\n",
        "X_test_list = []\n",
        "X_val_list = []\n",
        "\n",
        "def build_data(inputs,targets):\n",
        "  n = inputs.shape[0]\n",
        "  for i in range(n):\n",
        "    if int(targets[i]) in val.index: #Matching up trackId to correct genre\n",
        "      X_val_list.append(inputs[i])\n",
        "      y_val.append(val[int(targets[i])])\n",
        "    elif (int(targets[i]) in test.index):\n",
        "      X_test_list.append(inputs[i])\n",
        "      y_test.append(test[int(targets[i])])\n",
        "    else:\n",
        "      X_train_list.append(inputs[i])\n",
        "      y_train.append(train[int(targets[i])])\n",
        "  return \n",
        "\n",
        "build_data(inputs1,targets1)\n",
        "build_data(inputs2,targets2)\n",
        "build_data(inputs3,targets3)\n",
        "\n",
        "X_train = np.array(X_train_list)\n",
        "X_test = np.array(X_test_list)\n",
        "X_val = np.array(X_val_list)"
      ],
      "execution_count": 19,
      "outputs": []
    },
    {
      "cell_type": "code",
      "metadata": {
        "colab": {
          "base_uri": "https://localhost:8080/"
        },
        "id": "isLPSdGLK0oB",
        "outputId": "0a6452dc-ee13-4d27-da89-a4d7e11b1ee9"
      },
      "source": [
        "X_train.shape,X_test.shape,X_val.shape, len(y_train), len(y_test), len(y_val)"
      ],
      "execution_count": 29,
      "outputs": [
        {
          "output_type": "execute_result",
          "data": {
            "text/plain": [
              "((28218, 259, 20), (3564, 259, 20), (3544, 259, 20), 28218, 3564, 3544)"
            ]
          },
          "metadata": {
            "tags": []
          },
          "execution_count": 29
        }
      ]
    },
    {
      "cell_type": "markdown",
      "metadata": {
        "id": "gwkXdPGLIBgJ"
      },
      "source": [
        "Saving the numpy arrays to files to avoid having to load data often as it takes alot of time."
      ]
    },
    {
      "cell_type": "code",
      "metadata": {
        "id": "I7Y5tiwBHKdh"
      },
      "source": [
        "np.save('x_train_file',X_train)\n",
        "np.save('x_test_file',X_test)\n",
        "np.save('x_val_file',X_val)\n",
        "np.save('y_train_file',y_train)\n",
        "np.save('y_test_file',y_test)\n",
        "np.save('y_val_file',y_val)"
      ],
      "execution_count": 22,
      "outputs": []
    },
    {
      "cell_type": "markdown",
      "metadata": {
        "id": "pZmKItd_IMS-"
      },
      "source": [
        "Code to load arrays from files"
      ]
    },
    {
      "cell_type": "code",
      "metadata": {
        "id": "Uzj-o7taHNOl"
      },
      "source": [
        "X_train = np.load('time_dependant_fylki/x_train_file.npy')\n",
        "X_test = np.load('time_dependant_fylki/x_test_file.npy')\n",
        "X_val = np.load('time_dependant_fylki/x_val_file.npy')\n",
        "y_train = np.load('time_dependant_fylki/y_train_file.npy')\n",
        "y_test = np.load('time_dependant_fylki/y_test_file.npy')\n",
        "y_val = np.load('time_dependant_fylki/y_val_file.npy')"
      ],
      "execution_count": null,
      "outputs": []
    }
  ]
}