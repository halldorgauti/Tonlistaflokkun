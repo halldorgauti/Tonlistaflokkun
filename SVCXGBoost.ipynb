{
  "nbformat": 4,
  "nbformat_minor": 0,
  "metadata": {
    "colab": {
      "name": "SVC&XGBoost.ipynb",
      "provenance": [],
      "collapsed_sections": [],
      "machine_shape": "hm"
    },
    "kernelspec": {
      "name": "python3",
      "display_name": "Python 3"
    },
    "language_info": {
      "name": "python"
    },
    "accelerator": "GPU"
  },
  "cells": [
    {
      "cell_type": "code",
      "metadata": {
        "colab": {
          "base_uri": "https://localhost:8080/",
          "height": 69
        },
        "id": "c1bvKH0ZYwQb",
        "outputId": "6f5ba0dd-a098-480b-8078-e7d49de16e33"
      },
      "source": [
        "from google.colab import drive\n",
        "drive.mount('/content/drive')\n",
        "%cd /content/drive/MyDrive/Colab Notebooks/\n",
        "%pwd"
      ],
      "execution_count": 1,
      "outputs": [
        {
          "output_type": "stream",
          "text": [
            "Mounted at /content/drive\n",
            "/content/drive/MyDrive/Colab Notebooks\n"
          ],
          "name": "stdout"
        },
        {
          "output_type": "execute_result",
          "data": {
            "application/vnd.google.colaboratory.intrinsic+json": {
              "type": "string"
            },
            "text/plain": [
              "'/content/drive/MyDrive/Colab Notebooks'"
            ]
          },
          "metadata": {
            "tags": []
          },
          "execution_count": 1
        }
      ]
    },
    {
      "cell_type": "code",
      "metadata": {
        "colab": {
          "base_uri": "https://localhost:8080/"
        },
        "id": "O-n_slKaY5ER",
        "outputId": "78d172b6-aa6d-4f7d-87e1-18523d614038"
      },
      "source": [
        "%matplotlib inline\n",
        "!pip install colab-env -qU\n",
        "import os\n",
        "\n",
        "import IPython.display as ipd\n",
        "import numpy as np\n",
        "import pandas as pd\n",
        "import matplotlib.pyplot as plt\n",
        "import seaborn as sns\n",
        "import sklearn as skl\n",
        "import sklearn.utils, sklearn.preprocessing, sklearn.decomposition, sklearn.svm\n",
        "from sklearn.metrics import confusion_matrix, accuracy_score\n",
        "from sklearn.model_selection import RandomizedSearchCV\n",
        "from sklearn.preprocessing import LabelEncoder\n",
        "from scipy.stats import randint, uniform\n",
        "import xgboost as xgb\n",
        "import utils\n",
        "import seaborn as sn"
      ],
      "execution_count": 2,
      "outputs": [
        {
          "output_type": "stream",
          "text": [
            "  Building wheel for colab-env (setup.py) ... \u001b[?25l\u001b[?25hdone\n"
          ],
          "name": "stdout"
        }
      ]
    },
    {
      "cell_type": "code",
      "metadata": {
        "colab": {
          "base_uri": "https://localhost:8080/"
        },
        "id": "5Kq_LvUWBCbU",
        "outputId": "18cbd873-c01c-4f60-8258-d5160121ad83"
      },
      "source": [
        "tracks = utils.load('Data/fma_metadata/tracks.csv')\n",
        "genres = utils.load('Data/fma_metadata/genres.csv')\n",
        "features = utils.load('Data/fma_metadata/features.csv')\n",
        "subset = tracks.index[tracks['set', 'subset'] <= 'small']\n",
        "tracks = tracks.loc[subset]\n",
        "train = tracks.index[tracks['set', 'split'] == 'training']\n",
        "val = tracks.index[tracks['set', 'split'] == 'validation']\n",
        "test = tracks.index[tracks['set', 'split'] == 'test']\n",
        "\n",
        "print('{} training examples, {} validation examples, {} testing examples'.format(*map(len, [train, val, test])))"
      ],
      "execution_count": 3,
      "outputs": [
        {
          "output_type": "stream",
          "text": [
            "6400 training examples, 800 validation examples, 800 testing examples\n"
          ],
          "name": "stdout"
        }
      ]
    },
    {
      "cell_type": "markdown",
      "metadata": {
        "id": "3x61U-lBIiPp"
      },
      "source": [
        "Splitting the data into training, testing and validation sets. Encoding the y's to integers and scaling the input data."
      ]
    },
    {
      "cell_type": "code",
      "metadata": {
        "id": "1B6HK0_4BDij"
      },
      "source": [
        "enc = LabelEncoder()\n",
        "labels = tracks['track', 'genre_top']\n",
        "# Split in training, validation and testing sets.\n",
        "y_train = enc.fit_transform(labels[train])\n",
        "y_val = enc.transform(labels[val])\n",
        "y_test = enc.transform(labels[test])\n",
        "X_train = features.loc[train, 'mfcc'].to_numpy()\n",
        "X_val = features.loc[val, 'mfcc'].to_numpy()\n",
        "X_test = features.loc[test, 'mfcc'].to_numpy()\n",
        "# Standardize features by removing the mean and scaling to unit variance.\n",
        "scaler = sklearn.preprocessing.StandardScaler(copy=False)\n",
        "scaler.fit_transform(X_train)\n",
        "scaler.transform(X_val)\n",
        "scaler.transform(X_test)\n",
        "X_train_not_shuffled = X_train\n",
        "X_train, y_train = skl.utils.shuffle(X_train, y_train, random_state=42)"
      ],
      "execution_count": 5,
      "outputs": []
    },
    {
      "cell_type": "code",
      "metadata": {
        "colab": {
          "base_uri": "https://localhost:8080/"
        },
        "id": "kK1Akbv3ZaDs",
        "outputId": "f9742ef4-5758-42a6-dd5f-6b623e0f0931"
      },
      "source": [
        "X_train.shape, X_test.shape, X_val.shape, y_train.shape, y_test.shape, y_val.shape #Sanity check"
      ],
      "execution_count": 6,
      "outputs": [
        {
          "output_type": "execute_result",
          "data": {
            "text/plain": [
              "((6400, 140), (800, 140), (800, 140), (6400,), (800,), (800,))"
            ]
          },
          "metadata": {
            "tags": []
          },
          "execution_count": 6
        }
      ]
    },
    {
      "cell_type": "markdown",
      "metadata": {
        "id": "OgIxK83lIvdO"
      },
      "source": [
        "Here is the SVC baseline model. No input parameters were changed and we get a test accuracy of 46.38\\%."
      ]
    },
    {
      "cell_type": "code",
      "metadata": {
        "colab": {
          "base_uri": "https://localhost:8080/",
          "height": 506
        },
        "id": "ozm3Iu74ZjqC",
        "outputId": "d0f22057-a973-4036-95af-78fe5aeeb954"
      },
      "source": [
        "# SVC as a baseline model\n",
        "clf = skl.svm.SVC()\n",
        "clf.fit(X_train, y_train)\n",
        "score = clf.score(X_test, y_test)\n",
        "print('Test accuracy: {:.2%} \\n'.format(score))\n",
        "C_SVC = confusion_matrix(y_true=y_test, y_pred=clf.predict(X_test))\n",
        "c_svc = pd.DataFrame(C_SVC, index = enc.classes_,columns=enc.classes_)\n",
        "plt.figure(figsize=(10,7))\n",
        "sn.heatmap(c_svc,annot=True,cmap='Blues',fmt='g')\n",
        "plt.gcf().subplots_adjust(bottom=0.15)\n",
        "plt.savefig('confusion_matrix_svc.eps', format = 'eps')\n",
        "plt.show()"
      ],
      "execution_count": 7,
      "outputs": [
        {
          "output_type": "stream",
          "text": [
            "Test accuracy: 46.38% \n",
            "\n"
          ],
          "name": "stdout"
        },
        {
          "output_type": "display_data",
          "data": {
            "image/png": "[encoded data removed]",
            "text/plain": [
              "<Figure size 720x504 with 2 Axes>"
            ]
          },
          "metadata": {
            "tags": [],
            "needs_background": "light"
          }
        }
      ]
    },
    {
      "cell_type": "code",
      "metadata": {
        "colab": {
          "base_uri": "https://localhost:8080/"
        },
        "id": "vTUT7tpaZrEk",
        "outputId": "d632ef82-05b7-4028-b8bd-a5772ec6e214"
      },
      "source": [
        "#All data used for randomized CV search\n",
        "X = features.loc[small, 'mfcc']\n",
        "y = tracks.loc[small, ('track', 'genre_top')]\n",
        "\n",
        "scaler = skl.preprocessing.StandardScaler(copy=False)\n",
        "scaler.fit_transform(X)\n",
        "\n",
        "enc = LabelEncoder()\n",
        "labels = tracks['track','genre_top']\n",
        "enc.fit_transform(tracks)\n",
        "\n",
        "X, y = skl.utils.shuffle(X, y, random_state=42)\n",
        "X.shape, y.shape"
      ],
      "execution_count": 60,
      "outputs": [
        {
          "output_type": "execute_result",
          "data": {
            "text/plain": [
              "((8000, 140), (8000,))"
            ]
          },
          "metadata": {
            "tags": []
          },
          "execution_count": 60
        }
      ]
    },
    {
      "cell_type": "markdown",
      "metadata": {
        "id": "e6WDM4_6MlD5"
      },
      "source": [
        "Randomized CV search for hyperparameters in two stages."
      ]
    },
    {
      "cell_type": "code",
      "metadata": {
        "colab": {
          "base_uri": "https://localhost:8080/"
        },
        "id": "HOkYDRnKbIHQ",
        "outputId": "b2674059-5081-4a50-bafe-8ac9334f8d2b"
      },
      "source": [
        "params = {\n",
        "    'learning_rate': uniform(0.05,0.3),\n",
        "    'max_depth': randint(2,6),\n",
        "    'n_estimators': randint(100,150),\n",
        "     'gamma': uniform(0,1)\n",
        "}\n",
        "mdl = xgb.XGBClassifier(tree_method='gpu_hist')\n",
        "srch = RandomizedSearchCV(mdl,param_distributions=params,n_iter = 50,cv=5,random_state=42)\n",
        "srch.fit(X,y)\n",
        "best_params = srch.best_params_\n",
        "print('Mean cross validation accuracy of best classifier for this search: {:.2%}'.format(srch.best_score_))\n",
        "print('Best hyper parameters according to randomized CV search: \\n', best_params)"
      ],
      "execution_count": 56,
      "outputs": [
        {
          "output_type": "stream",
          "text": [
            "Mean cross validation accuracy of best classifier for this search: 56.38%\n",
            "Best hyper parameters according to randomized CV search: \n",
            " {'gamma': 0.05808361216819946, 'learning_rate': 0.3098528437324805, 'max_depth': 5, 'n_estimators': 139}\n"
          ],
          "name": "stdout"
        }
      ]
    },
    {
      "cell_type": "code",
      "metadata": {
        "colab": {
          "base_uri": "https://localhost:8080/"
        },
        "id": "wN1tri-sgI_t",
        "outputId": "d61f73a1-f5e4-440e-9cfd-ee6e001b50be"
      },
      "source": [
        "del params\n",
        "params = {\n",
        "    'min_child_weight': uniform(0.5,4),\n",
        "    'colsample_bytree': uniform(0.5,0.5),\n",
        "    'sub_samples': uniform(0.4,1)\n",
        "}\n",
        "mdl = xgb.XGBClassifier(tree_method='gpu_hist', learning_rate=best_params['learning_rate'],\n",
        "                        max_depth = best_params['max_depth'], n_estimators = best_params['n_estimators'],\n",
        "                        gamma=best_params['gamma'])\n",
        "srch = RandomizedSearchCV(mdl,param_distributions=params,n_iter=50,cv=5,random_state=0)\n",
        "srch.fit(X,y)\n",
        "best_params.update(srch.best_params_)\n",
        "print('Mean cross validation accuracy of best classifier for this search: {:.2%}'.format(srch.best_score_))\n",
        "print('Best hyper parameters according to randomized CV search: \\n', srch.best_params_)"
      ],
      "execution_count": 57,
      "outputs": [
        {
          "output_type": "stream",
          "text": [
            "Mean cross validation accuracy of best classifier for this search: 56.26%\n",
            "Best hyper parameters according to randomized CV search: \n",
            " {'colsample_bytree': 0.6592844762256618, 'min_child_weight': 3.1696415198547268, 'sub_samples': 0.5317978624043922}\n"
          ],
          "name": "stdout"
        }
      ]
    },
    {
      "cell_type": "code",
      "metadata": {
        "colab": {
          "base_uri": "https://localhost:8080/"
        },
        "id": "CALmQNMXq-NI",
        "outputId": "13ff543a-c7e6-40a4-fef0-c4c2deb0855e"
      },
      "source": [
        "mdl = xgb.XGBClassifier(tree_method='gpu_hist',learning_rate=best_params['learning_rate'],\n",
        "                        max_depth = best_params['max_depth'], n_estimators = best_params['n_estimators'],\n",
        "                        colsample_bytree=best_params['colsample_bytree'], min_child_weight=best_params['min_child_weight'],\n",
        "                        sub_samples=best_params['sub_samples'],gamma = best_params['gamma'])\n",
        "mdl.fit(X_train,y_train)\n",
        "y_pred_train = mdl.predict(X_train)\n",
        "y_pred_test = mdl.predict(X_test)\n",
        "train_acc = accuracy_score(y_train,y_pred_train)\n",
        "test_acc = accuracy_score(y_test,y_pred_test)\n",
        "print('Train accuracy: {:.2%} Test accuracy: {:.2%} '.format(train_acc,test_acc))"
      ],
      "execution_count": 62,
      "outputs": [
        {
          "output_type": "stream",
          "text": [
            "Train accuracy: 99.98% Test accuracy: 42.75% \n"
          ],
          "name": "stdout"
        }
      ]
    },
    {
      "cell_type": "markdown",
      "metadata": {
        "id": "ZGpE5paqMvsE"
      },
      "source": [
        "As we can see the randomized search did well on the mean validation accuracy but did very poorly on the test set. Therefor we do anaother manual grid search for hyper-parameters in search of better results."
      ]
    },
    {
      "cell_type": "code",
      "metadata": {
        "colab": {
          "base_uri": "https://localhost:8080/"
        },
        "id": "pxKWq_2wtTni",
        "outputId": "54920ee6-c778-401e-e6f8-26bf0cf3004a"
      },
      "source": [
        "import xgboost as xgb\n",
        "from sklearn.metrics import accuracy_score\n",
        "#Manual grid search for best hyperparameters\n",
        "learning_rates = [0.2, 0.25]\n",
        "min_child_weights = [1, 1.5]\n",
        "max_depths = [4, 6]\n",
        "col_samples = [0.5, 1]\n",
        "n_estimators = [100, 150]\n",
        "best_params = {}\n",
        "best_val_acc = 0\n",
        "i = 1\n",
        "n = 2*2*2*2*2\n",
        "for learning_rate in learning_rates:\n",
        "  for max_depth in max_depths:\n",
        "    for col_sample in col_samples:\n",
        "      for n_est in n_estimators:\n",
        "        for min_child_weight in min_child_weights:\n",
        "          mdl = xgb.XGBClassifier(learning_rate=learning_rate,\n",
        "                                max_depth = max_depth, colsample_bytree=col_sample,\n",
        "                                n_estimators = n_est,min_child_weight=min_child_weight)\n",
        "          mdl.fit(X_train,y_train)\n",
        "          y_pred_train = mdl.predict(X_train)\n",
        "          y_pred_val = mdl.predict(X_val)\n",
        "          train_acc = accuracy_score(y_train,y_pred_train)\n",
        "          val_acc = accuracy_score(y_val,y_pred_val)\n",
        "          if(val_acc>best_val_acc):\n",
        "            best_val_acc = val_acc\n",
        "            best_params['learning_rates'] = learning_rate\n",
        "            best_params['colsample_bytree'] = col_sample\n",
        "            best_params['max_depth'] = max_depth\n",
        "            best_params['n_estimators'] = n_est\n",
        "            best_params['min_child_weight'] = min_child_weight\n",
        "          print('Iteration {} out of {}'.format(i,n))\n",
        "          print('Train accuracy: {:.2%} \\nVal accuracy: {:.2%} \\n'.format(train_acc,val_acc))\n",
        "          i = i+1\n",
        "\n",
        "print('Best parameters: \\n', best_params)\n",
        "print('Best validation accuracy: {:.2%}'.format(best_val_acc))"
      ],
      "execution_count": 7,
      "outputs": [
        {
          "output_type": "stream",
          "text": [
            "Iteration 1 out of 32\n",
            "Train accuracy: 95.45% \n",
            "Val accuracy: 51.88% \n",
            "\n",
            "Iteration 2 out of 32\n",
            "Train accuracy: 95.06% \n",
            "Val accuracy: 51.62% \n",
            "\n",
            "Iteration 3 out of 32\n",
            "Train accuracy: 99.23% \n",
            "Val accuracy: 51.38% \n",
            "\n",
            "Iteration 4 out of 32\n",
            "Train accuracy: 99.11% \n",
            "Val accuracy: 52.00% \n",
            "\n",
            "Iteration 5 out of 32\n",
            "Train accuracy: 96.22% \n",
            "Val accuracy: 52.25% \n",
            "\n",
            "Iteration 6 out of 32\n",
            "Train accuracy: 96.17% \n",
            "Val accuracy: 52.25% \n",
            "\n",
            "Iteration 7 out of 32\n",
            "Train accuracy: 99.44% \n",
            "Val accuracy: 52.25% \n",
            "\n",
            "Iteration 8 out of 32\n",
            "Train accuracy: 99.55% \n",
            "Val accuracy: 52.62% \n",
            "\n",
            "Iteration 9 out of 32\n",
            "Train accuracy: 99.98% \n",
            "Val accuracy: 52.25% \n",
            "\n",
            "Iteration 10 out of 32\n",
            "Train accuracy: 99.98% \n",
            "Val accuracy: 53.50% \n",
            "\n",
            "Iteration 11 out of 32\n",
            "Train accuracy: 99.98% \n",
            "Val accuracy: 52.25% \n",
            "\n",
            "Iteration 12 out of 32\n",
            "Train accuracy: 99.98% \n",
            "Val accuracy: 53.50% \n",
            "\n",
            "Iteration 13 out of 32\n",
            "Train accuracy: 99.98% \n",
            "Val accuracy: 52.38% \n",
            "\n",
            "Iteration 14 out of 32\n",
            "Train accuracy: 99.98% \n",
            "Val accuracy: 53.50% \n",
            "\n",
            "Iteration 15 out of 32\n",
            "Train accuracy: 99.98% \n",
            "Val accuracy: 52.12% \n",
            "\n",
            "Iteration 16 out of 32\n",
            "Train accuracy: 99.98% \n",
            "Val accuracy: 54.75% \n",
            "\n",
            "Iteration 17 out of 32\n",
            "Train accuracy: 98.00% \n",
            "Val accuracy: 52.12% \n",
            "\n",
            "Iteration 18 out of 32\n",
            "Train accuracy: 97.61% \n",
            "Val accuracy: 51.25% \n",
            "\n",
            "Iteration 19 out of 32\n",
            "Train accuracy: 99.91% \n",
            "Val accuracy: 52.75% \n",
            "\n",
            "Iteration 20 out of 32\n",
            "Train accuracy: 99.94% \n",
            "Val accuracy: 51.38% \n",
            "\n",
            "Iteration 21 out of 32\n",
            "Train accuracy: 98.25% \n",
            "Val accuracy: 51.38% \n",
            "\n",
            "Iteration 22 out of 32\n",
            "Train accuracy: 98.20% \n",
            "Val accuracy: 50.62% \n",
            "\n",
            "Iteration 23 out of 32\n",
            "Train accuracy: 99.97% \n",
            "Val accuracy: 50.50% \n",
            "\n",
            "Iteration 24 out of 32\n",
            "Train accuracy: 99.94% \n",
            "Val accuracy: 51.25% \n",
            "\n",
            "Iteration 25 out of 32\n",
            "Train accuracy: 99.98% \n",
            "Val accuracy: 52.12% \n",
            "\n",
            "Iteration 26 out of 32\n",
            "Train accuracy: 99.98% \n",
            "Val accuracy: 49.88% \n",
            "\n",
            "Iteration 27 out of 32\n",
            "Train accuracy: 99.98% \n",
            "Val accuracy: 51.50% \n",
            "\n",
            "Iteration 28 out of 32\n",
            "Train accuracy: 99.98% \n",
            "Val accuracy: 51.00% \n",
            "\n",
            "Iteration 29 out of 32\n",
            "Train accuracy: 99.98% \n",
            "Val accuracy: 52.00% \n",
            "\n",
            "Iteration 30 out of 32\n",
            "Train accuracy: 99.98% \n",
            "Val accuracy: 53.00% \n",
            "\n",
            "Iteration 31 out of 32\n",
            "Train accuracy: 99.98% \n",
            "Val accuracy: 53.00% \n",
            "\n",
            "Iteration 32 out of 32\n",
            "Train accuracy: 99.98% \n",
            "Val accuracy: 52.75% \n",
            "\n",
            "Best parameters: \n",
            " {'learning_rates': 0.2, 'colsample_bytree': 1, 'max_depth': 6, 'n_estimators': 150, 'min_child_weight': 1.5}\n",
            "Best validation accuracy: 54.75%\n"
          ],
          "name": "stdout"
        }
      ]
    },
    {
      "cell_type": "code",
      "metadata": {
        "colab": {
          "base_uri": "https://localhost:8080/",
          "height": 502
        },
        "id": "7Bl_CL6s9qiX",
        "outputId": "f4fb89ca-8dbd-400a-b8df-820725af06e4"
      },
      "source": [
        "mdl = xgb.XGBClassifier(learning_rate=best_params['learning_rates'],\n",
        "                                max_depth = best_params['max_depth'], colsample_bytree=best_params['colsample_bytree'],\n",
        "                                n_estimators = best_params['n_estimators'],\n",
        "                                min_child_weight=best_params['min_child_weight'])\n",
        "mdl.fit(X_train,y_train)\n",
        "y_pred_test = mdl.predict(X_test)\n",
        "test_acc = accuracy_score(y_test,y_pred_test)\n",
        "print('Test accuracy: {:.2%}'.format(test_acc))\n",
        "C_XGB = confusion_matrix(y_test,y_pred_test)\n",
        "c_xgb = pd.DataFrame(C_XGB, index = enc.classes_,columns=enc.classes_)\n",
        "plt.figure(figsize=(10,7))\n",
        "sn.heatmap(c_xgb,annot=True,cmap='Blues',fmt='g')\n",
        "plt.show()"
      ],
      "execution_count": 8,
      "outputs": [
        {
          "output_type": "stream",
          "text": [
            "Test accuracy: 43.50%\n"
          ],
          "name": "stdout"
        },
        {
          "output_type": "display_data",
          "data": {
            "image/png": "[encoded data removed]",
            "text/plain": [
              "<Figure size 720x504 with 2 Axes>"
            ]
          },
          "metadata": {
            "tags": [],
            "needs_background": "light"
          }
        }
      ]
    },
    {
      "cell_type": "markdown",
      "metadata": {
        "id": "cDbFt_j-ImZm"
      },
      "source": [
        "As we can see the second XGBoost classifier performs better than the first one. However SVC is still the best one. The confusion matrixes for XGB and SVC are similar."
      ]
    },
    {
      "cell_type": "code",
      "metadata": {
        "id": "vPulhr2DI2fT"
      },
      "source": [
        ""
      ],
      "execution_count": null,
      "outputs": []
    }
  ]
}