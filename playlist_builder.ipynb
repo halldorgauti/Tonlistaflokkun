{
  "nbformat": 4,
  "nbformat_minor": 0,
  "metadata": {
    "colab": {
      "name": "playlist_builder.ipynb",
      "provenance": [],
      "collapsed_sections": []
    },
    "kernelspec": {
      "name": "python3",
      "display_name": "Python 3"
    },
    "language_info": {
      "name": "python"
    }
  },
  "cells": [
    {
      "cell_type": "code",
      "metadata": {
        "colab": {
          "base_uri": "https://localhost:8080/",
          "height": 69
        },
        "id": "0z_2n-zpkNCH",
        "outputId": "f320ae23-b8a8-48da-9b63-65da7cb4ddb6"
      },
      "source": [
        "from google.colab import drive\n",
        "drive.mount('/content/drive')\n",
        "%cd /content/drive/MyDrive/Colab Notebooks/\n",
        "%pwd"
      ],
      "execution_count": 60,
      "outputs": [
        {
          "output_type": "stream",
          "text": [
            "Drive already mounted at /content/drive; to attempt to forcibly remount, call drive.mount(\"/content/drive\", force_remount=True).\n",
            "/content/drive/MyDrive/Colab Notebooks\n"
          ],
          "name": "stdout"
        },
        {
          "output_type": "execute_result",
          "data": {
            "application/vnd.google.colaboratory.intrinsic+json": {
              "type": "string"
            },
            "text/plain": [
              "'/content/drive/MyDrive/Colab Notebooks'"
            ]
          },
          "metadata": {
            "tags": []
          },
          "execution_count": 60
        }
      ]
    },
    {
      "cell_type": "code",
      "metadata": {
        "id": "ZvsvKvClkdJN"
      },
      "source": [
        "!pip install colab-env -qU #To get utils.py working, might be unneccesary\n",
        "import numpy as np\n",
        "import pandas as pd\n",
        "from scipy import stats\n",
        "import keras\n",
        "from keras.layers import Activation, Dense, Conv1D, Conv2D, MaxPooling1D, Flatten, Reshape\n",
        "from sklearn.utils import shuffle\n",
        "from sklearn.preprocessing import LabelEncoder, StandardScaler\n",
        "from sklearn.neighbors import KNeighborsClassifier\n",
        "from sklearn.metrics import accuracy_score, confusion_matrix\n",
        "import librosa\n",
        "import utils\n",
        "import seaborn as sn\n",
        "import matplotlib.pyplot as plt\n",
        "from keras.callbacks import EarlyStopping"
      ],
      "execution_count": 61,
      "outputs": []
    },
    {
      "cell_type": "code",
      "metadata": {
        "id": "6QSbuI5TlQr2",
        "colab": {
          "base_uri": "https://localhost:8080/"
        },
        "outputId": "e6b94e73-ca03-41f2-bdaf-68e5a25f3c4f"
      },
      "source": [
        "tracks = utils.load('Data/fma_metadata/tracks.csv')\n",
        "genres = utils.load('Data/fma_metadata/genres.csv')\n",
        "features = utils.load('Data/fma_metadata/features.csv')\n",
        "subset = tracks.index[tracks['set', 'subset'] <= 'small']\n",
        "tracks = tracks.loc[subset]\n",
        "train = tracks.index[tracks['set', 'split'] == 'training']\n",
        "val = tracks.index[tracks['set', 'split'] == 'validation']\n",
        "test = tracks.index[tracks['set', 'split'] == 'test']\n",
        "\n",
        "print('{} training examples, {} validation examples, {} testing examples'.format(*map(len, [train, val, test])))"
      ],
      "execution_count": 62,
      "outputs": [
        {
          "output_type": "stream",
          "text": [
            "6400 training examples, 800 validation examples, 800 testing examples\n"
          ],
          "name": "stdout"
        }
      ]
    },
    {
      "cell_type": "code",
      "metadata": {
        "id": "CmzL-Ivhl9KW"
      },
      "source": [
        "enc = LabelEncoder()\n",
        "labels = tracks['track', 'genre_top']\n",
        "# Split in training, validation and testing sets.\n",
        "y_train = enc.fit_transform(labels[train])\n",
        "y_val = enc.transform(labels[val])\n",
        "y_test = enc.transform(labels[test])\n",
        "X_train = features.loc[train, 'mfcc'].to_numpy()\n",
        "X_val = features.loc[val, 'mfcc'].to_numpy()\n",
        "X_test = features.loc[test, 'mfcc'].to_numpy()\n",
        "# Standardize features by removing the mean and scaling to unit variance.\n",
        "scaler = StandardScaler(copy=False)\n",
        "scaler.fit_transform(X_train)\n",
        "scaler.transform(X_val)\n",
        "scaler.transform(X_test)\n",
        "X_train_not_shuffled = X_train\n",
        "X_train, y_train = shuffle(X_train, y_train, random_state=42)"
      ],
      "execution_count": 63,
      "outputs": []
    },
    {
      "cell_type": "code",
      "metadata": {
        "colab": {
          "base_uri": "https://localhost:8080/"
        },
        "id": "olpov7OxmBQA",
        "outputId": "2a3e2969-dad0-4ddf-d948-a42f2f645246"
      },
      "source": [
        "X_train.shape, X_test.shape, X_val.shape, y_train.shape, y_test.shape, y_val.shape #sanity check"
      ],
      "execution_count": 64,
      "outputs": [
        {
          "output_type": "execute_result",
          "data": {
            "text/plain": [
              "((6400, 140), (800, 140), (800, 140), (6400,), (800,), (800,))"
            ]
          },
          "metadata": {
            "tags": []
          },
          "execution_count": 64
        }
      ]
    },
    {
      "cell_type": "markdown",
      "metadata": {
        "id": "IC36vfmfPOQc"
      },
      "source": [
        "Feed forward network trained on Mfcc features from fma\\_metadata."
      ]
    },
    {
      "cell_type": "code",
      "metadata": {
        "colab": {
          "base_uri": "https://localhost:8080/"
        },
        "id": "bAVkye76mE0s",
        "outputId": "0f85899d-9d53-493e-ff34-516ed983783a"
      },
      "source": [
        "import tensorflow.keras as keras\n",
        "model = keras.Sequential([\n",
        "    # 1st dense layer\n",
        "    keras.layers.Dense(128, input_dim=X_train.shape[1],activation='relu', kernel_regularizer = keras.regularizers.l2(0.002)),\n",
        "    keras.layers.Dropout(0.3),\n",
        "    # 2nd dense layer\n",
        "    keras.layers.Dense(64, activation='relu', kernel_regularizer = keras.regularizers.l2(0.002)),\n",
        "    keras.layers.Dropout(0.3),\n",
        "    # 3rd dense layer\n",
        "    keras.layers.Dense(32, activation='relu', kernel_regularizer = keras.regularizers.l2(0.002)),\n",
        "    keras.layers.Dropout(0.3),\n",
        "    # output layer\n",
        "    keras.layers.Dense(8, activation='softmax')])\n",
        "# compile model\n",
        "optimiser = keras.optimizers.Adam(learning_rate=0.0001)\n",
        "model.compile(optimizer=optimiser,\n",
        "              loss='sparse_categorical_crossentropy',\n",
        "              metrics=['accuracy'])\n",
        "model.summary()\n",
        "# train model\n",
        "callback = EarlyStopping(monitor='val_accuracy', patience=20, restore_best_weights=True)\n",
        "history = model.fit(X_train, y_train, validation_data=(X_val, y_val), batch_size=16, epochs=130, callbacks=callback)\n",
        "test_loss, test_acc = model.evaluate(X_test, y_test, verbose=2)\n",
        "print('\\nTest accuracy:', test_acc)"
      ],
      "execution_count": 68,
      "outputs": [
        {
          "output_type": "stream",
          "text": [
            "Model: \"sequential_8\"\n",
            "_________________________________________________________________\n",
            "Layer (type)                 Output Shape              Param #   \n",
            "=================================================================\n",
            "dense_32 (Dense)             (None, 128)               18048     \n",
            "_________________________________________________________________\n",
            "dropout_24 (Dropout)         (None, 128)               0         \n",
            "_________________________________________________________________\n",
            "dense_33 (Dense)             (None, 64)                8256      \n",
            "_________________________________________________________________\n",
            "dropout_25 (Dropout)         (None, 64)                0         \n",
            "_________________________________________________________________\n",
            "dense_34 (Dense)             (None, 32)                2080      \n",
            "_________________________________________________________________\n",
            "dropout_26 (Dropout)         (None, 32)                0         \n",
            "_________________________________________________________________\n",
            "dense_35 (Dense)             (None, 8)                 264       \n",
            "=================================================================\n",
            "Total params: 28,648\n",
            "Trainable params: 28,648\n",
            "Non-trainable params: 0\n",
            "_________________________________________________________________\n",
            "Epoch 1/130\n",
            "400/400 [==============================] - 2s 3ms/step - loss: 2.8104 - accuracy: 0.1414 - val_loss: 2.4483 - val_accuracy: 0.2862\n",
            "Epoch 2/130\n",
            "400/400 [==============================] - 1s 2ms/step - loss: 2.5787 - accuracy: 0.1825 - val_loss: 2.3742 - val_accuracy: 0.3325\n",
            "Epoch 3/130\n",
            "400/400 [==============================] - 1s 2ms/step - loss: 2.5087 - accuracy: 0.2211 - val_loss: 2.2888 - val_accuracy: 0.3800\n",
            "Epoch 4/130\n",
            "400/400 [==============================] - 1s 2ms/step - loss: 2.4248 - accuracy: 0.2659 - val_loss: 2.2134 - val_accuracy: 0.3925\n",
            "Epoch 5/130\n",
            "400/400 [==============================] - 1s 2ms/step - loss: 2.3627 - accuracy: 0.2848 - val_loss: 2.1340 - val_accuracy: 0.4162\n",
            "Epoch 6/130\n",
            "400/400 [==============================] - 1s 2ms/step - loss: 2.2763 - accuracy: 0.3273 - val_loss: 2.0849 - val_accuracy: 0.4350\n",
            "Epoch 7/130\n",
            "400/400 [==============================] - 1s 2ms/step - loss: 2.2339 - accuracy: 0.3424 - val_loss: 2.0336 - val_accuracy: 0.4450\n",
            "Epoch 8/130\n",
            "400/400 [==============================] - 1s 2ms/step - loss: 2.2074 - accuracy: 0.3579 - val_loss: 2.0041 - val_accuracy: 0.4563\n",
            "Epoch 9/130\n",
            "400/400 [==============================] - 1s 2ms/step - loss: 2.1735 - accuracy: 0.3652 - val_loss: 1.9692 - val_accuracy: 0.4750\n",
            "Epoch 10/130\n",
            "400/400 [==============================] - 1s 2ms/step - loss: 2.1144 - accuracy: 0.3832 - val_loss: 1.9342 - val_accuracy: 0.4800\n",
            "Epoch 11/130\n",
            "400/400 [==============================] - 1s 2ms/step - loss: 2.1031 - accuracy: 0.3941 - val_loss: 1.9027 - val_accuracy: 0.4900\n",
            "Epoch 12/130\n",
            "400/400 [==============================] - 1s 2ms/step - loss: 2.0558 - accuracy: 0.4096 - val_loss: 1.8739 - val_accuracy: 0.4888\n",
            "Epoch 13/130\n",
            "400/400 [==============================] - 1s 2ms/step - loss: 2.0608 - accuracy: 0.4140 - val_loss: 1.8587 - val_accuracy: 0.4975\n",
            "Epoch 14/130\n",
            "400/400 [==============================] - 1s 2ms/step - loss: 2.0222 - accuracy: 0.4202 - val_loss: 1.8369 - val_accuracy: 0.5025\n",
            "Epoch 15/130\n",
            "400/400 [==============================] - 1s 2ms/step - loss: 1.9849 - accuracy: 0.4341 - val_loss: 1.8085 - val_accuracy: 0.5100\n",
            "Epoch 16/130\n",
            "400/400 [==============================] - 1s 2ms/step - loss: 1.9613 - accuracy: 0.4359 - val_loss: 1.7864 - val_accuracy: 0.5113\n",
            "Epoch 17/130\n",
            "400/400 [==============================] - 1s 2ms/step - loss: 1.9494 - accuracy: 0.4447 - val_loss: 1.7772 - val_accuracy: 0.5163\n",
            "Epoch 18/130\n",
            "400/400 [==============================] - 1s 2ms/step - loss: 1.9210 - accuracy: 0.4498 - val_loss: 1.7571 - val_accuracy: 0.5088\n",
            "Epoch 19/130\n",
            "400/400 [==============================] - 1s 2ms/step - loss: 1.8769 - accuracy: 0.4634 - val_loss: 1.7421 - val_accuracy: 0.5150\n",
            "Epoch 20/130\n",
            "400/400 [==============================] - 1s 2ms/step - loss: 1.8817 - accuracy: 0.4614 - val_loss: 1.7301 - val_accuracy: 0.5075\n",
            "Epoch 21/130\n",
            "400/400 [==============================] - 1s 2ms/step - loss: 1.8675 - accuracy: 0.4645 - val_loss: 1.7226 - val_accuracy: 0.5163\n",
            "Epoch 22/130\n",
            "400/400 [==============================] - 1s 2ms/step - loss: 1.8453 - accuracy: 0.4802 - val_loss: 1.7034 - val_accuracy: 0.5213\n",
            "Epoch 23/130\n",
            "400/400 [==============================] - 1s 2ms/step - loss: 1.8164 - accuracy: 0.4844 - val_loss: 1.6980 - val_accuracy: 0.5263\n",
            "Epoch 24/130\n",
            "400/400 [==============================] - 1s 2ms/step - loss: 1.7979 - accuracy: 0.4840 - val_loss: 1.6822 - val_accuracy: 0.5375\n",
            "Epoch 25/130\n",
            "400/400 [==============================] - 1s 2ms/step - loss: 1.8005 - accuracy: 0.4834 - val_loss: 1.6703 - val_accuracy: 0.5300\n",
            "Epoch 26/130\n",
            "400/400 [==============================] - 1s 2ms/step - loss: 1.7825 - accuracy: 0.4957 - val_loss: 1.6526 - val_accuracy: 0.5437\n",
            "Epoch 27/130\n",
            "400/400 [==============================] - 1s 2ms/step - loss: 1.7557 - accuracy: 0.4977 - val_loss: 1.6467 - val_accuracy: 0.5500\n",
            "Epoch 28/130\n",
            "400/400 [==============================] - 1s 2ms/step - loss: 1.7661 - accuracy: 0.4909 - val_loss: 1.6361 - val_accuracy: 0.5450\n",
            "Epoch 29/130\n",
            "400/400 [==============================] - 1s 2ms/step - loss: 1.7260 - accuracy: 0.5087 - val_loss: 1.6283 - val_accuracy: 0.5400\n",
            "Epoch 30/130\n",
            "400/400 [==============================] - 1s 2ms/step - loss: 1.7266 - accuracy: 0.4998 - val_loss: 1.6269 - val_accuracy: 0.5400\n",
            "Epoch 31/130\n",
            "400/400 [==============================] - 1s 2ms/step - loss: 1.7016 - accuracy: 0.5074 - val_loss: 1.6207 - val_accuracy: 0.5375\n",
            "Epoch 32/130\n",
            "400/400 [==============================] - 1s 2ms/step - loss: 1.7039 - accuracy: 0.5105 - val_loss: 1.6153 - val_accuracy: 0.5400\n",
            "Epoch 33/130\n",
            "400/400 [==============================] - 1s 2ms/step - loss: 1.6962 - accuracy: 0.4973 - val_loss: 1.5978 - val_accuracy: 0.5500\n",
            "Epoch 34/130\n",
            "400/400 [==============================] - 1s 2ms/step - loss: 1.6727 - accuracy: 0.5211 - val_loss: 1.5983 - val_accuracy: 0.5387\n",
            "Epoch 35/130\n",
            "400/400 [==============================] - 1s 2ms/step - loss: 1.6657 - accuracy: 0.5137 - val_loss: 1.5933 - val_accuracy: 0.5475\n",
            "Epoch 36/130\n",
            "400/400 [==============================] - 1s 2ms/step - loss: 1.6620 - accuracy: 0.5115 - val_loss: 1.5884 - val_accuracy: 0.5500\n",
            "Epoch 37/130\n",
            "400/400 [==============================] - 1s 2ms/step - loss: 1.6423 - accuracy: 0.5281 - val_loss: 1.5932 - val_accuracy: 0.5462\n",
            "Epoch 38/130\n",
            "400/400 [==============================] - 1s 2ms/step - loss: 1.6422 - accuracy: 0.5197 - val_loss: 1.5859 - val_accuracy: 0.5487\n",
            "Epoch 39/130\n",
            "400/400 [==============================] - 1s 2ms/step - loss: 1.6491 - accuracy: 0.5115 - val_loss: 1.5763 - val_accuracy: 0.5512\n",
            "Epoch 40/130\n",
            "400/400 [==============================] - 1s 2ms/step - loss: 1.5977 - accuracy: 0.5286 - val_loss: 1.5670 - val_accuracy: 0.5537\n",
            "Epoch 41/130\n",
            "400/400 [==============================] - 1s 2ms/step - loss: 1.6101 - accuracy: 0.5239 - val_loss: 1.5637 - val_accuracy: 0.5500\n",
            "Epoch 42/130\n",
            "400/400 [==============================] - 1s 2ms/step - loss: 1.6108 - accuracy: 0.5301 - val_loss: 1.5690 - val_accuracy: 0.5450\n",
            "Epoch 43/130\n",
            "400/400 [==============================] - 1s 2ms/step - loss: 1.5799 - accuracy: 0.5346 - val_loss: 1.5637 - val_accuracy: 0.5512\n",
            "Epoch 44/130\n",
            "400/400 [==============================] - 1s 2ms/step - loss: 1.5736 - accuracy: 0.5360 - val_loss: 1.5552 - val_accuracy: 0.5537\n",
            "Epoch 45/130\n",
            "400/400 [==============================] - 1s 2ms/step - loss: 1.5632 - accuracy: 0.5415 - val_loss: 1.5541 - val_accuracy: 0.5550\n",
            "Epoch 46/130\n",
            "400/400 [==============================] - 1s 2ms/step - loss: 1.5591 - accuracy: 0.5428 - val_loss: 1.5459 - val_accuracy: 0.5500\n",
            "Epoch 47/130\n",
            "400/400 [==============================] - 1s 2ms/step - loss: 1.5607 - accuracy: 0.5377 - val_loss: 1.5411 - val_accuracy: 0.5575\n",
            "Epoch 48/130\n",
            "400/400 [==============================] - 1s 2ms/step - loss: 1.5195 - accuracy: 0.5520 - val_loss: 1.5432 - val_accuracy: 0.5550\n",
            "Epoch 49/130\n",
            "400/400 [==============================] - 1s 2ms/step - loss: 1.5452 - accuracy: 0.5421 - val_loss: 1.5424 - val_accuracy: 0.5512\n",
            "Epoch 50/130\n",
            "400/400 [==============================] - 1s 2ms/step - loss: 1.5241 - accuracy: 0.5660 - val_loss: 1.5346 - val_accuracy: 0.5525\n",
            "Epoch 51/130\n",
            "400/400 [==============================] - 1s 2ms/step - loss: 1.5310 - accuracy: 0.5421 - val_loss: 1.5390 - val_accuracy: 0.5537\n",
            "Epoch 52/130\n",
            "400/400 [==============================] - 1s 2ms/step - loss: 1.5074 - accuracy: 0.5600 - val_loss: 1.5362 - val_accuracy: 0.5500\n",
            "Epoch 53/130\n",
            "400/400 [==============================] - 1s 2ms/step - loss: 1.5110 - accuracy: 0.5539 - val_loss: 1.5391 - val_accuracy: 0.5537\n",
            "Epoch 54/130\n",
            "400/400 [==============================] - 1s 2ms/step - loss: 1.5100 - accuracy: 0.5636 - val_loss: 1.5317 - val_accuracy: 0.5600\n",
            "Epoch 55/130\n",
            "400/400 [==============================] - 1s 2ms/step - loss: 1.4946 - accuracy: 0.5652 - val_loss: 1.5312 - val_accuracy: 0.5487\n",
            "Epoch 56/130\n",
            "400/400 [==============================] - 1s 2ms/step - loss: 1.4972 - accuracy: 0.5582 - val_loss: 1.5312 - val_accuracy: 0.5487\n",
            "Epoch 57/130\n",
            "400/400 [==============================] - 1s 2ms/step - loss: 1.4880 - accuracy: 0.5650 - val_loss: 1.5273 - val_accuracy: 0.5525\n",
            "Epoch 58/130\n",
            "400/400 [==============================] - 1s 2ms/step - loss: 1.4889 - accuracy: 0.5704 - val_loss: 1.5293 - val_accuracy: 0.5525\n",
            "Epoch 59/130\n",
            "400/400 [==============================] - 1s 2ms/step - loss: 1.4504 - accuracy: 0.5790 - val_loss: 1.5187 - val_accuracy: 0.5650\n",
            "Epoch 60/130\n",
            "400/400 [==============================] - 1s 2ms/step - loss: 1.4752 - accuracy: 0.5592 - val_loss: 1.5193 - val_accuracy: 0.5575\n",
            "Epoch 61/130\n",
            "400/400 [==============================] - 1s 2ms/step - loss: 1.4588 - accuracy: 0.5682 - val_loss: 1.5204 - val_accuracy: 0.5512\n",
            "Epoch 62/130\n",
            "400/400 [==============================] - 1s 2ms/step - loss: 1.4372 - accuracy: 0.5847 - val_loss: 1.5118 - val_accuracy: 0.5550\n",
            "Epoch 63/130\n",
            "400/400 [==============================] - 1s 2ms/step - loss: 1.4553 - accuracy: 0.5696 - val_loss: 1.5105 - val_accuracy: 0.5475\n",
            "Epoch 64/130\n",
            "400/400 [==============================] - 1s 2ms/step - loss: 1.4564 - accuracy: 0.5744 - val_loss: 1.5144 - val_accuracy: 0.5525\n",
            "Epoch 65/130\n",
            "400/400 [==============================] - 1s 2ms/step - loss: 1.4186 - accuracy: 0.5894 - val_loss: 1.5158 - val_accuracy: 0.5462\n",
            "Epoch 66/130\n",
            "400/400 [==============================] - 1s 2ms/step - loss: 1.4230 - accuracy: 0.5766 - val_loss: 1.5117 - val_accuracy: 0.5525\n",
            "Epoch 67/130\n",
            "400/400 [==============================] - 1s 2ms/step - loss: 1.4352 - accuracy: 0.5717 - val_loss: 1.5086 - val_accuracy: 0.5462\n",
            "Epoch 68/130\n",
            "400/400 [==============================] - 1s 2ms/step - loss: 1.4019 - accuracy: 0.5942 - val_loss: 1.5029 - val_accuracy: 0.5550\n",
            "Epoch 69/130\n",
            "400/400 [==============================] - 1s 2ms/step - loss: 1.4170 - accuracy: 0.5886 - val_loss: 1.5072 - val_accuracy: 0.5525\n",
            "Epoch 70/130\n",
            "400/400 [==============================] - 1s 2ms/step - loss: 1.4074 - accuracy: 0.5799 - val_loss: 1.5055 - val_accuracy: 0.5512\n",
            "Epoch 71/130\n",
            "400/400 [==============================] - 1s 2ms/step - loss: 1.3976 - accuracy: 0.5976 - val_loss: 1.5112 - val_accuracy: 0.5425\n",
            "Epoch 72/130\n",
            "400/400 [==============================] - 1s 2ms/step - loss: 1.4145 - accuracy: 0.5838 - val_loss: 1.5187 - val_accuracy: 0.5375\n",
            "Epoch 73/130\n",
            "400/400 [==============================] - 1s 2ms/step - loss: 1.4007 - accuracy: 0.5938 - val_loss: 1.5157 - val_accuracy: 0.5437\n",
            "Epoch 74/130\n",
            "400/400 [==============================] - 1s 2ms/step - loss: 1.3767 - accuracy: 0.5915 - val_loss: 1.5178 - val_accuracy: 0.5412\n",
            "Epoch 75/130\n",
            "400/400 [==============================] - 1s 2ms/step - loss: 1.4123 - accuracy: 0.5733 - val_loss: 1.5088 - val_accuracy: 0.5487\n",
            "Epoch 76/130\n",
            "400/400 [==============================] - 1s 2ms/step - loss: 1.3849 - accuracy: 0.5887 - val_loss: 1.5044 - val_accuracy: 0.5500\n",
            "Epoch 77/130\n",
            "400/400 [==============================] - 1s 2ms/step - loss: 1.4088 - accuracy: 0.5918 - val_loss: 1.5070 - val_accuracy: 0.5450\n",
            "Epoch 78/130\n",
            "400/400 [==============================] - 1s 2ms/step - loss: 1.3723 - accuracy: 0.6104 - val_loss: 1.5166 - val_accuracy: 0.5425\n",
            "Epoch 79/130\n",
            "400/400 [==============================] - 1s 2ms/step - loss: 1.3617 - accuracy: 0.6012 - val_loss: 1.5119 - val_accuracy: 0.5437\n",
            "25/25 - 0s - loss: 1.8049 - accuracy: 0.4425\n",
            "\n",
            "Test accuracy: 0.4424999952316284\n"
          ],
          "name": "stdout"
        }
      ]
    },
    {
      "cell_type": "code",
      "metadata": {
        "colab": {
          "base_uri": "https://localhost:8080/",
          "height": 357
        },
        "id": "rDsicNRtOky6",
        "outputId": "c25fcbe5-57c0-43f7-8d5e-9eb1a941f744"
      },
      "source": [
        "import matplotlib.pyplot as plt\n",
        "plt.rcParams['figure.figsize'] = (17, 5)\n",
        "\n",
        "fig, axs = plt.subplots(2)\n",
        "fig.tight_layout(pad=3.0)\n",
        "# create accuracy sublpot\n",
        "axs[0].plot(history.history[\"accuracy\"], label=\"training accuracy\")\n",
        "axs[0].plot(history.history[\"val_accuracy\"], label=\"validation accuracy\")\n",
        "axs[0].set_ylabel(\"Accuracy\")\n",
        "axs[0].set_xlabel(\"Epoch\")\n",
        "axs[0].legend(loc=\"lower right\")\n",
        "axs[0].set_title(\"Accuracy visualization\")\n",
        "\n",
        "# create error sublpot\n",
        "axs[1].plot(history.history[\"loss\"], label=\"training loss\")\n",
        "axs[1].plot(history.history[\"val_loss\"], label=\"validation loss\")\n",
        "axs[1].set_ylabel(\"Loss\")\n",
        "axs[1].set_xlabel(\"Epoch\")\n",
        "axs[1].legend(loc=\"upper right\")\n",
        "axs[1].set_title(\"Loss visualization\")\n",
        "\n",
        "plt.show()"
      ],
      "execution_count": 69,
      "outputs": [
        {
          "output_type": "display_data",
          "data": {
            "image/png": "[encoded data removed]",
            "text/plain": [
              "<Figure size 1224x360 with 2 Axes>"
            ]
          },
          "metadata": {
            "tags": [],
            "needs_background": "light"
          }
        }
      ]
    },
    {
      "cell_type": "code",
      "metadata": {
        "colab": {
          "base_uri": "https://localhost:8080/",
          "height": 485
        },
        "id": "Shht4JE2Qmkb",
        "outputId": "1080f11f-0841-4a0b-98eb-a613b066d159"
      },
      "source": [
        "y_pred_test = np.argmax(model.predict(X_test),axis=1)\n",
        "C_fnn = confusion_matrix(y_true=y_test, y_pred=y_pred_test)\n",
        "c_fnn = pd.DataFrame(C_fnn, index = enc.classes_,columns=enc.classes_)\n",
        "plt.figure(figsize=(10,7))\n",
        "sn.heatmap(c_fnn,annot=True,cmap='Blues',fmt='g')\n",
        "plt.show()"
      ],
      "execution_count": 44,
      "outputs": [
        {
          "output_type": "display_data",
          "data": {
            "image/png": "[encoded data removed]",
            "text/plain": [
              "<Figure size 720x504 with 2 Axes>"
            ]
          },
          "metadata": {
            "tags": [],
            "needs_background": "light"
          }
        }
      ]
    },
    {
      "cell_type": "code",
      "metadata": {
        "id": "o976jht4zBdj"
      },
      "source": [
        "from sklearn.neighbors import NearestNeighbors\n",
        "def playlist_builder(song_feature,k):\n",
        "  weights = model.predict(X_train_not_shuffled)\n",
        "  song_weight = model.predict(song_feature.reshape(1,-1))\n",
        "  nbrs = NearestNeighbors(n_neighbors=k, algorithm='auto').fit(weights)\n",
        "  dist, index = nbrs.kneighbors(song_weight)\n",
        "  print('Predicted genre of input song: {} \\n'.format(enc.inverse_transform([np.argmax(model.predict(song_feature.reshape(1,-1)))])))\n",
        "  for j in range(k):\n",
        "    id = index[0,j]\n",
        "    lag_id = train[id]\n",
        "    lag_title = tracks['track'].loc[lag_id]['title']\n",
        "    lag_genre = tracks['track'].loc[lag_id]['genre_top']\n",
        "    lag_album = tracks['artist'].loc[lag_id]['name']\n",
        "    print('Lag: {}, LagId: {}, Artist: {}, Genre: {} \\n'.format(lag_title,lag_id,lag_album,lag_genre))"
      ],
      "execution_count": 48,
      "outputs": []
    },
    {
      "cell_type": "code",
      "metadata": {
        "id": "hKl6QMngVis3"
      },
      "source": [
        "def feature_computation(f, n_mfcc = 20): #Mfcc computated as in features.py\n",
        "  song_feature = np.zeros(7*n_mfcc)\n",
        "  song_feature[:n_mfcc] = stats.kurtosis(f, axis=1)\n",
        "  song_feature[n_mfcc:2*n_mfcc] = np.max(f, axis=1)\n",
        "  song_feature[2*n_mfcc:3*n_mfcc] = np.mean(f, axis=1)\n",
        "  song_feature[3*n_mfcc:4*n_mfcc] = np.median(f, axis=1)\n",
        "  song_feature[4*n_mfcc:5*n_mfcc] = np.min(f, axis=1)\n",
        "  song_feature[5*n_mfcc:6*n_mfcc] = stats.skew(f, axis=1)\n",
        "  song_feature[6*n_mfcc:7*n_mfcc] = np.std(f, axis=1)\n",
        "  scaler.transform(song_feature.reshape(1,-1)) #Scaling new song with same scaler as before\n",
        "  return song_feature"
      ],
      "execution_count": 31,
      "outputs": []
    },
    {
      "cell_type": "code",
      "metadata": {
        "id": "gpTA6kbEYSl7"
      },
      "source": [
        "def load_audio(filepath):\n",
        "  x, sr = librosa.load(filepath,sr=None, mono=True) \n",
        "  n_mfcc = 20\n",
        "  stft = np.abs(librosa.stft(x, n_fft=2048, hop_length=512))\n",
        "  mel = librosa.feature.melspectrogram(sr=sr, S=stft**2)\n",
        "  f = librosa.feature.mfcc(S=librosa.power_to_db(mel), n_mfcc=n_mfcc)\n",
        "  song_feature = feature_computation(f)\n",
        "  return song_feature"
      ],
      "execution_count": 32,
      "outputs": []
    },
    {
      "cell_type": "markdown",
      "metadata": {
        "id": "S7RAvnGsKpd9"
      },
      "source": [
        "'Hangloose' is a song by Hip-Hop artist AWOL. This song is a part of the fma database but not on the fma_small subset. AWOL has three other songs in the fma_small dataset. The model does not reccomend any of his other songs which is disapointing however the song is correctly classified and all the other songs are also Hip-Hop songs."
      ]
    },
    {
      "cell_type": "code",
      "metadata": {
        "colab": {
          "base_uri": "https://localhost:8080/"
        },
        "id": "fz-TYu_lYgtI",
        "outputId": "7a8efa19-a2da-492b-9fda-3ef40be5432c"
      },
      "source": [
        "filepath = 'AWOL - Hangloose.mp3'\n",
        "playlist_builder(load_audio(filepath),10)"
      ],
      "execution_count": 49,
      "outputs": [
        {
          "output_type": "stream",
          "text": [
            "/usr/local/lib/python3.7/dist-packages/librosa/core/audio.py:162: UserWarning: PySoundFile failed. Trying audioread instead.\n",
            "  warnings.warn(\"PySoundFile failed. Trying audioread instead.\")\n"
          ],
          "name": "stderr"
        },
        {
          "output_type": "stream",
          "text": [
            "Predicted genre of input song: ['Hip-Hop'] \n",
            "\n",
            "Lag: The Rebel featuring Cheese N Pot-C, LagId: 137895, Artist: C-Doc, Genre: Hip-Hop \n",
            "\n",
            "Lag: Demmadont, LagId: 110448, Artist: Papascandy, Genre: International \n",
            "\n",
            "Lag: In the Dark, LagId: 7492, Artist: BrokeMC, Genre: Hip-Hop \n",
            "\n",
            "Lag: Four, Floss, Five, Six, LagId: 57820, Artist: Blue Ducks, Genre: Hip-Hop \n",
            "\n",
            "Lag: Cara de Poker, LagId: 71225, Artist: J-K, Genre: Hip-Hop \n",
            "\n",
            "Lag: Hell Yeah, LagId: 97692, Artist: Tickle, Genre: Hip-Hop \n",
            "\n",
            "Lag: 08 BEATEN TRACK, LagId: 141164, Artist: godmanwho, Genre: Hip-Hop \n",
            "\n",
            "Lag: DrummMachine (Prez Ike's Drums of Life Redux) (Featuring DJ Def Chad), LagId: 74955, Artist: C-Doc, Genre: Hip-Hop \n",
            "\n",
            "Lag: Take The Blame, LagId: 72788, Artist: Tha Silent Partner, Genre: Hip-Hop \n",
            "\n",
            "Lag: Follow That, LagId: 7490, Artist: BrokeMC, Genre: Hip-Hop \n",
            "\n"
          ],
          "name": "stdout"
        }
      ]
    },
    {
      "cell_type": "markdown",
      "metadata": {
        "id": "zKA5lqy_KM8x"
      },
      "source": [
        "'Tangled Up In Blue' is a song by Nobel-prize winner Bod Dylan. According to Wikipedia it's a folk-rock song. The model makes some wierd international and pop suggestions, however the a few of the songs are folk songs as expected."
      ]
    },
    {
      "cell_type": "code",
      "metadata": {
        "id": "a-O54mU5bV-a",
        "colab": {
          "base_uri": "https://localhost:8080/"
        },
        "outputId": "5c854ce2-cabd-4dcf-fb63-526816ddc14b"
      },
      "source": [
        "filepath = '01 Tangled Up In Blue.mp3'\n",
        "playlist_builder(load_audio(filepath),10)"
      ],
      "execution_count": 46,
      "outputs": [
        {
          "output_type": "stream",
          "text": [
            "/usr/local/lib/python3.7/dist-packages/librosa/core/audio.py:162: UserWarning: PySoundFile failed. Trying audioread instead.\n",
            "  warnings.warn(\"PySoundFile failed. Trying audioread instead.\")\n"
          ],
          "name": "stderr"
        },
        {
          "output_type": "stream",
          "text": [
            "Predicted genre of input song: ['International'] \n",
            "\n",
            "Lag: Herasinkuoleena, LagId 4102, Artist: Polka Madre, Genre: International \n",
            "\n",
            "Lag: Outro, LagId 24362, Artist: Cuban Cowboys, Genre: International \n",
            "\n",
            "Lag: Bili_Ptaci (White Birds), LagId 37325, Artist: Zuby Nehty, Genre: Pop \n",
            "\n",
            "Lag: Small Town Industry, LagId 134384, Artist: Scott Holmes, Genre: Pop \n",
            "\n",
            "Lag: -Misket, LagId 134933, Artist: Turku, Nomads of the Silk Road, Genre: International \n",
            "\n",
            "Lag: Falling Off the Map, LagId 26464, Artist: Spectre Folk, Genre: Folk \n",
            "\n",
            "Lag: Invitation, LagId 131792, Artist: Pranavibes, Genre: Instrumental \n",
            "\n",
            "Lag: Where Will You Go, LagId 81082, Artist: Jacco Gardner, Genre: Folk \n",
            "\n",
            "Lag: Deep River Blues, LagId 13927, Artist: Janet Bean, Genre: Folk \n",
            "\n",
            "Lag: When It Rains, LagId 5940, Artist: Howard Fishman, Genre: Folk \n",
            "\n"
          ],
          "name": "stdout"
        }
      ]
    },
    {
      "cell_type": "markdown",
      "metadata": {
        "id": "0b1hgjVcJ2TN"
      },
      "source": [
        "'My Old Man' is a song from the Canadian artist Mac DeMarco. DeMarco's music is an indie blend of folk and pop. Therfor the model does a good job by predicting both folk and pop songs."
      ]
    },
    {
      "cell_type": "code",
      "metadata": {
        "colab": {
          "base_uri": "https://localhost:8080/"
        },
        "id": "7-YCUKlhDfPC",
        "outputId": "0a2ab369-d38d-4201-a889-185015c61a65"
      },
      "source": [
        "filepath = '01 My Old Man.mp3'\n",
        "playlist_builder(load_audio(filepath),10)"
      ],
      "execution_count": 47,
      "outputs": [
        {
          "output_type": "stream",
          "text": [
            "/usr/local/lib/python3.7/dist-packages/librosa/core/audio.py:162: UserWarning: PySoundFile failed. Trying audioread instead.\n",
            "  warnings.warn(\"PySoundFile failed. Trying audioread instead.\")\n"
          ],
          "name": "stderr"
        },
        {
          "output_type": "stream",
          "text": [
            "Predicted genre of input song: ['Pop'] \n",
            "\n",
            "Lag: When He's Away, LagId 150062, Artist: Finn Anderson, Genre: Folk \n",
            "\n",
            "Lag: We Have Moved, LagId 69793, Artist: Chris Cook, Genre: Experimental \n",
            "\n",
            "Lag: Gnos Levohs, LagId 26322, Artist: Karl Blau, Genre: Experimental \n",
            "\n",
            "Lag: Different Day, LagId 13197, Artist: First, Genre: Pop \n",
            "\n",
            "Lag: Stay On Course, LagId 69789, Artist: Chris Cook, Genre: Experimental \n",
            "\n",
            "Lag: The One We Love the Most, LagId 129694, Artist: Derek Clegg, Genre: Folk \n",
            "\n",
            "Lag: Para Tomás, LagId 115925, Artist: Síndrome Amok, Genre: Folk \n",
            "\n",
            "Lag: Suspicious, LagId 54234, Artist: Ivy, Genre: Pop \n",
            "\n",
            "Lag: Skyvory, LagId 113934, Artist: Chris Herb, Genre: Pop \n",
            "\n",
            "Lag: Shane, LagId 56275, Artist: Orca Team, Genre: Pop \n",
            "\n"
          ],
          "name": "stdout"
        }
      ]
    },
    {
      "cell_type": "code",
      "metadata": {
        "id": "Oi8xiT3IJtG0"
      },
      "source": [
        ""
      ],
      "execution_count": null,
      "outputs": []
    }
  ]
}